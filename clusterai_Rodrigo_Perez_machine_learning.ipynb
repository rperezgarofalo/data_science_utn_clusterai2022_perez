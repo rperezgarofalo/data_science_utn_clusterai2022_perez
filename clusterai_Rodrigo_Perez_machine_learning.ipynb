{
 "cells": [
  {
   "cell_type": "code",
   "execution_count": 299,
   "id": "e2a61e9f",
   "metadata": {},
   "outputs": [],
   "source": [
    "## Importamos librerias para el EDA\n",
    "import numpy as np\n",
    "import pandas as pd\n",
    "import matplotlib.pyplot as plt\n",
    "import matplotlib.patches as mpatches\n",
    "import seaborn as sns; sns.set()\n",
    "import warnings\n",
    "warnings.filterwarnings('ignore')\n",
    "\n",
    "## Librerias de aprendizaje\n",
    "from sklearn.model_selection import train_test_split\n",
    "from sklearn.preprocessing import MinMaxScaler\n",
    "from sklearn.linear_model import LogisticRegression\n",
    "from sklearn.decomposition import PCA\n",
    "from sklearn.model_selection import GridSearchCV\n",
    "from sklearn.linear_model import LogisticRegression\n",
    "from sklearn.metrics import accuracy_score\n",
    "\n",
    "## Leemos el dataset en un dataframe\n",
    "bank = pd.read_csv(\"bank.csv\")"
   ]
  },
  {
   "cell_type": "markdown",
   "id": "6b3d4094",
   "metadata": {},
   "source": [
    "## Feature Engineering"
   ]
  },
  {
   "cell_type": "code",
   "execution_count": 300,
   "id": "b16af69b",
   "metadata": {},
   "outputs": [
    {
     "name": "stdout",
     "output_type": "stream",
     "text": [
      "Hay 9 Variables categoricas\n",
      "\n",
      "Las variables categoricas son : ['Job', 'Marital Status', 'Education', 'Credit', 'Housing Loan', 'Personal Loan', 'Contact', 'Last Contact Month', 'Poutcome']\n"
     ]
    }
   ],
   "source": [
    "# Que variables son categoricas?\n",
    "categorical = [var for var in bank.columns if bank[var].dtype=='O']\n",
    "\n",
    "print('Hay {} Variables categoricas\\n'.format(len(categorical)))\n",
    "\n",
    "print('Las variables categoricas son :', categorical)"
   ]
  },
  {
   "cell_type": "code",
   "execution_count": 301,
   "id": "f3aaed10",
   "metadata": {},
   "outputs": [
    {
     "name": "stdout",
     "output_type": "stream",
     "text": [
      "Hay 8 variables numericas \n",
      "\n",
      "The numerical variables are : ['Age', 'Balance (euros)', 'Last Contact Day', 'Last Contact Duration', 'Campaign', 'Pdays', 'Previous', 'Subscription']\n"
     ]
    }
   ],
   "source": [
    "numerical = [var for var in bank.columns if bank[var].dtype!='O']\n",
    "\n",
    "print('Hay {} variables numericas \\n'.format(len(numerical)))\n",
    "\n",
    "print('The numerical variables are :', numerical)"
   ]
  },
  {
   "cell_type": "code",
   "execution_count": 302,
   "id": "acf49885",
   "metadata": {},
   "outputs": [
    {
     "data": {
      "text/html": [
       "<div>\n",
       "<style scoped>\n",
       "    .dataframe tbody tr th:only-of-type {\n",
       "        vertical-align: middle;\n",
       "    }\n",
       "\n",
       "    .dataframe tbody tr th {\n",
       "        vertical-align: top;\n",
       "    }\n",
       "\n",
       "    .dataframe thead th {\n",
       "        text-align: right;\n",
       "    }\n",
       "</style>\n",
       "<table border=\"1\" class=\"dataframe\">\n",
       "  <thead>\n",
       "    <tr style=\"text-align: right;\">\n",
       "      <th></th>\n",
       "      <th>Age</th>\n",
       "      <th>Balance (euros)</th>\n",
       "      <th>Last Contact Day</th>\n",
       "      <th>Last Contact Duration</th>\n",
       "      <th>Campaign</th>\n",
       "      <th>Pdays</th>\n",
       "      <th>Previous</th>\n",
       "      <th>Subscription</th>\n",
       "    </tr>\n",
       "  </thead>\n",
       "  <tbody>\n",
       "    <tr>\n",
       "      <th>count</th>\n",
       "      <td>28381.000000</td>\n",
       "      <td>28381.000000</td>\n",
       "      <td>28381.000000</td>\n",
       "      <td>28381.000000</td>\n",
       "      <td>28381.000000</td>\n",
       "      <td>28381.000000</td>\n",
       "      <td>28381.000000</td>\n",
       "      <td>28381.000000</td>\n",
       "    </tr>\n",
       "    <tr>\n",
       "      <th>mean</th>\n",
       "      <td>40.882034</td>\n",
       "      <td>1213.820373</td>\n",
       "      <td>15.787921</td>\n",
       "      <td>214.979564</td>\n",
       "      <td>2.760121</td>\n",
       "      <td>32.818822</td>\n",
       "      <td>0.584194</td>\n",
       "      <td>0.117931</td>\n",
       "    </tr>\n",
       "    <tr>\n",
       "      <th>std</th>\n",
       "      <td>10.581758</td>\n",
       "      <td>2814.580789</td>\n",
       "      <td>8.300663</td>\n",
       "      <td>254.334872</td>\n",
       "      <td>3.056762</td>\n",
       "      <td>92.101387</td>\n",
       "      <td>2.494222</td>\n",
       "      <td>0.322532</td>\n",
       "    </tr>\n",
       "    <tr>\n",
       "      <th>min</th>\n",
       "      <td>18.000000</td>\n",
       "      <td>-6847.000000</td>\n",
       "      <td>1.000000</td>\n",
       "      <td>0.000000</td>\n",
       "      <td>1.000000</td>\n",
       "      <td>-1.000000</td>\n",
       "      <td>0.000000</td>\n",
       "      <td>0.000000</td>\n",
       "    </tr>\n",
       "    <tr>\n",
       "      <th>25%</th>\n",
       "      <td>33.000000</td>\n",
       "      <td>0.000000</td>\n",
       "      <td>8.000000</td>\n",
       "      <td>58.000000</td>\n",
       "      <td>1.000000</td>\n",
       "      <td>-1.000000</td>\n",
       "      <td>0.000000</td>\n",
       "      <td>0.000000</td>\n",
       "    </tr>\n",
       "    <tr>\n",
       "      <th>50%</th>\n",
       "      <td>39.000000</td>\n",
       "      <td>329.000000</td>\n",
       "      <td>16.000000</td>\n",
       "      <td>147.000000</td>\n",
       "      <td>2.000000</td>\n",
       "      <td>-1.000000</td>\n",
       "      <td>0.000000</td>\n",
       "      <td>0.000000</td>\n",
       "    </tr>\n",
       "    <tr>\n",
       "      <th>75%</th>\n",
       "      <td>48.000000</td>\n",
       "      <td>1238.000000</td>\n",
       "      <td>21.000000</td>\n",
       "      <td>279.000000</td>\n",
       "      <td>3.000000</td>\n",
       "      <td>-1.000000</td>\n",
       "      <td>0.000000</td>\n",
       "      <td>0.000000</td>\n",
       "    </tr>\n",
       "    <tr>\n",
       "      <th>max</th>\n",
       "      <td>93.000000</td>\n",
       "      <td>102127.000000</td>\n",
       "      <td>31.000000</td>\n",
       "      <td>4918.000000</td>\n",
       "      <td>58.000000</td>\n",
       "      <td>871.000000</td>\n",
       "      <td>275.000000</td>\n",
       "      <td>1.000000</td>\n",
       "    </tr>\n",
       "  </tbody>\n",
       "</table>\n",
       "</div>"
      ],
      "text/plain": [
       "                Age  Balance (euros)  Last Contact Day  Last Contact Duration  \\\n",
       "count  28381.000000     28381.000000      28381.000000           28381.000000   \n",
       "mean      40.882034      1213.820373         15.787921             214.979564   \n",
       "std       10.581758      2814.580789          8.300663             254.334872   \n",
       "min       18.000000     -6847.000000          1.000000               0.000000   \n",
       "25%       33.000000         0.000000          8.000000              58.000000   \n",
       "50%       39.000000       329.000000         16.000000             147.000000   \n",
       "75%       48.000000      1238.000000         21.000000             279.000000   \n",
       "max       93.000000    102127.000000         31.000000            4918.000000   \n",
       "\n",
       "           Campaign         Pdays      Previous  Subscription  \n",
       "count  28381.000000  28381.000000  28381.000000  28381.000000  \n",
       "mean       2.760121     32.818822      0.584194      0.117931  \n",
       "std        3.056762     92.101387      2.494222      0.322532  \n",
       "min        1.000000     -1.000000      0.000000      0.000000  \n",
       "25%        1.000000     -1.000000      0.000000      0.000000  \n",
       "50%        2.000000     -1.000000      0.000000      0.000000  \n",
       "75%        3.000000     -1.000000      0.000000      0.000000  \n",
       "max       58.000000    871.000000    275.000000      1.000000  "
      ]
     },
     "execution_count": 302,
     "metadata": {},
     "output_type": "execute_result"
    }
   ],
   "source": [
    "bank.describe()"
   ]
  },
  {
   "cell_type": "markdown",
   "id": "924eba44",
   "metadata": {},
   "source": [
    "## Train test split"
   ]
  },
  {
   "cell_type": "code",
   "execution_count": 303,
   "id": "e075a08b",
   "metadata": {},
   "outputs": [],
   "source": [
    "# Separamos las features de la variable objetivo\n",
    "X = bank.drop(['Subscription'], axis=1)\n",
    "\n",
    "y = bank['Subscription']"
   ]
  },
  {
   "cell_type": "code",
   "execution_count": 304,
   "id": "c2038361",
   "metadata": {},
   "outputs": [],
   "source": [
    "# Seleccionamos las variables numericas nuevamente sin la columna Subscription\n",
    "numerical_x = [var for var in X.columns if X[var].dtype!='O']"
   ]
  },
  {
   "cell_type": "code",
   "execution_count": 305,
   "id": "f638b82a",
   "metadata": {},
   "outputs": [
    {
     "data": {
      "text/plain": [
       "((19866, 16), (8515, 16))"
      ]
     },
     "execution_count": 305,
     "metadata": {},
     "output_type": "execute_result"
    }
   ],
   "source": [
    "# Separamos en test y train\n",
    "X_train, X_test, y_train, y_test = train_test_split(X, y, test_size = 0.3, random_state = 0)\n",
    "\n",
    "X_train.shape, X_test.shape"
   ]
  },
  {
   "cell_type": "code",
   "execution_count": 306,
   "id": "789e4b37",
   "metadata": {},
   "outputs": [],
   "source": [
    "# Dividimos las variables categoricas de las numericas para poder realizar scaling y PCA\n",
    "\n",
    "X_train_cat = X_train[categorical]\n",
    "X_train_num = X_train[numerical_x]\n",
    "X_test_cat = X_test[categorical]\n",
    "X_test_num = X_test[numerical_x]"
   ]
  },
  {
   "cell_type": "markdown",
   "id": "8f839ed3",
   "metadata": {},
   "source": [
    "## Scaling"
   ]
  },
  {
   "cell_type": "code",
   "execution_count": 307,
   "id": "8dc263b8",
   "metadata": {},
   "outputs": [],
   "source": [
    "# Vamos a tener que convertir esta variables categoricas en dummies para que puedan ingresar al modelo\n",
    "X_train_cat = pd.get_dummies(data=X_train_cat, columns=categorical)\n",
    "X_test_cat = pd.get_dummies(data=X_test_cat, columns=categorical)"
   ]
  },
  {
   "cell_type": "code",
   "execution_count": 308,
   "id": "4949b573",
   "metadata": {},
   "outputs": [],
   "source": [
    "# Hacemos scaling en los datasets de train y test\n",
    "scaler = MinMaxScaler()\n",
    "\n",
    "X_train_num = scaler.fit_transform(X_train_num)\n",
    "\n",
    "X_test_num = scaler.transform(X_test_num)"
   ]
  },
  {
   "cell_type": "code",
   "execution_count": 309,
   "id": "b16e4ee2",
   "metadata": {},
   "outputs": [],
   "source": [
    "# Unimos las variables categoricas y las variables numericas\n",
    "X_train = np.concatenate((X_train_num,X_train_cat),axis=1)\n",
    "X_test = np.concatenate((X_test_num,X_test_cat),axis=1)"
   ]
  },
  {
   "cell_type": "markdown",
   "id": "e6a02233",
   "metadata": {},
   "source": [
    "## Regresion logistica\n",
    "\n",
    "Seleccionamos este modelo dado que es uno de los mas utilizados en la industria para resolver problemas de clasificacion binaria."
   ]
  },
  {
   "cell_type": "code",
   "execution_count": 310,
   "id": "e86d968f",
   "metadata": {},
   "outputs": [
    {
     "name": "stdout",
     "output_type": "stream",
     "text": [
      "Fitting 10 folds for each of 14 candidates, totalling 140 fits\n",
      "Mejores hiperaparametros:  {'C': 100, 'penalty': 'l2'}\n",
      "Accuracy : 0.8982180750913162\n"
     ]
    }
   ],
   "source": [
    "# Seteamos hiperparametros y aplicamos grid search y cross validation\n",
    "grid = {\"C\":[0.001,0.01,0.1,1,10,100,1000],\"penalty\":[\"l1\",\"l2\"]}\n",
    "logreg = LogisticRegression()\n",
    "logreg_cv=GridSearchCV(logreg,grid,cv=10,verbose=1)\n",
    "logreg_cv.fit(X_train,y_train)\n",
    "\n",
    "print(\"Mejores hiperaparametros: \",logreg_cv.best_params_)\n",
    "print(\"Accuracy :\",logreg_cv.best_score_)"
   ]
  },
  {
   "cell_type": "code",
   "execution_count": 311,
   "id": "7a8ffabc",
   "metadata": {},
   "outputs": [
    {
     "data": {
      "text/plain": [
       "{0: 7495, 1: 1020}"
      ]
     },
     "execution_count": 311,
     "metadata": {},
     "output_type": "execute_result"
    }
   ],
   "source": [
    "# Vemos la distribución de los valores de test\n",
    "unique, counts = np.unique(y_test, return_counts=True)\n",
    "dict(zip(unique, counts))"
   ]
  },
  {
   "cell_type": "code",
   "execution_count": 312,
   "id": "c19fc33e",
   "metadata": {},
   "outputs": [
    {
     "data": {
      "text/plain": [
       "LogisticRegression(C=100, class_weight={0: 0.25, 1: 0.75})"
      ]
     },
     "execution_count": 312,
     "metadata": {},
     "output_type": "execute_result"
    }
   ],
   "source": [
    "# Al no tener el dataset balanceado, asignamos pesos a las clases para compensar\n",
    "logreg = LogisticRegression(C=100,penalty='l2',class_weight={ 0:0.25, 1:0.75 })\n",
    "logreg.fit(X_train, y_train)"
   ]
  },
  {
   "cell_type": "code",
   "execution_count": 313,
   "id": "952c3b02",
   "metadata": {},
   "outputs": [],
   "source": [
    "# Relizamos una prediccion con los datos de test\n",
    "y_pred_test = logreg.predict(X_test)"
   ]
  },
  {
   "cell_type": "code",
   "execution_count": 314,
   "id": "685cf942",
   "metadata": {},
   "outputs": [
    {
     "name": "stdout",
     "output_type": "stream",
     "text": [
      "Accuracy del modelo: 0.8887\n"
     ]
    }
   ],
   "source": [
    "# Analizamos la performance del modelo\n",
    "from sklearn.metrics import accuracy_score\n",
    "\n",
    "print('Accuracy del modelo: {0:0.4f}'. format(accuracy_score(y_test, y_pred_test)))"
   ]
  },
  {
   "cell_type": "code",
   "execution_count": 315,
   "id": "5f713d0a",
   "metadata": {},
   "outputs": [],
   "source": [
    "# Realizamos una prediccion con los datos de entrenamiento para luego verificar si hay overfitting o underfitting\n",
    "y_pred_train = logreg.predict(X_train)"
   ]
  },
  {
   "cell_type": "code",
   "execution_count": 316,
   "id": "ea80757d",
   "metadata": {},
   "outputs": [
    {
     "name": "stdout",
     "output_type": "stream",
     "text": [
      "Score de entrenamiento: 0.8987\n",
      "Score de test: 0.8958\n"
     ]
    }
   ],
   "source": [
    "# Realizamos una prediccion con los datos de entrenamiento para luego verificar si hay overfitting o underfitting\n",
    "print('Score de entrenamiento: {:.4f}'.format(logreg_cv.score(X_train, y_train)))\n",
    "\n",
    "print('Score de test: {:.4f}'.format(logreg_cv.score(X_test, y_test)))"
   ]
  },
  {
   "cell_type": "markdown",
   "id": "dbf230cb",
   "metadata": {},
   "source": [
    "Los scores estan balanceados entre si, lo que indicaria que no hubo overfitting ni underfitting"
   ]
  },
  {
   "cell_type": "markdown",
   "id": "98e0372b",
   "metadata": {},
   "source": [
    "# Reducción de la dimensionalidad\n",
    "\n",
    "Teniendo en cuenta que tenemos un dataset con una gran cantidad de variables, haremos el experimento de aplicar PCA para ver como impacta en el modelo y en las predicciones finales"
   ]
  },
  {
   "cell_type": "code",
   "execution_count": 317,
   "id": "a3517840",
   "metadata": {},
   "outputs": [
    {
     "data": {
      "image/png": "[encoded data removed]",
      "text/plain": [
       "<Figure size 432x288 with 1 Axes>"
      ]
     },
     "metadata": {},
     "output_type": "display_data"
    }
   ],
   "source": [
    "# Graficamos la varianza acumulada para poder seleccionar el numero de componentes a aplicar\n",
    "pca_comps = PCA().fit(X_train_num)\n",
    "plt.plot(np.cumsum(pca_comps.explained_variance_ratio_))\n",
    "plt.xlabel('Componentes seleccionados')\n",
    "plt.ylabel('Varianza acumulada');"
   ]
  },
  {
   "cell_type": "markdown",
   "id": "ca1a510e",
   "metadata": {},
   "source": [
    "Como se puede apreciar en el grafico, con utilizar 2 componentes estariamos captando alrededor del 80% de varianza acumulada del dataset, por lo que seleccionamos esa cantidad de componentes"
   ]
  },
  {
   "cell_type": "code",
   "execution_count": 318,
   "id": "fe2e672d",
   "metadata": {},
   "outputs": [],
   "source": [
    "# Cantidad de componentes a extraer\n",
    "n_comps = 4\n",
    "# Definimos PCA\n",
    "pca = PCA(n_components = n_comps)\n",
    "# fit_transform del PCA a nuestros datos\n",
    "X_train_num_pca = pd.DataFrame(pca.fit_transform(X_train_num))\n",
    "X_test_num_pca =  pd.DataFrame(pca.transform(X_test_num))\n",
    "# obtenemos los auto-valores\n",
    "eigenvalues = pca.explained_variance_ratio_"
   ]
  },
  {
   "cell_type": "code",
   "execution_count": 319,
   "id": "8d49860e",
   "metadata": {},
   "outputs": [
    {
     "name": "stdout",
     "output_type": "stream",
     "text": [
      "(19866, 4)\n",
      "(8515, 4)\n"
     ]
    }
   ],
   "source": [
    "# Verificamos que se hayan reducido de 7 variables a 2\n",
    "print(X_train_num_pca.shape)\n",
    "print(X_test_num_pca.shape)"
   ]
  },
  {
   "cell_type": "code",
   "execution_count": 320,
   "id": "064f7913",
   "metadata": {},
   "outputs": [
    {
     "name": "stdout",
     "output_type": "stream",
     "text": [
      "[0.66341244 0.83738036 0.93910085 0.96469784]\n"
     ]
    }
   ],
   "source": [
    "# Varianza acumulada de los componentes principales\n",
    "print(np.cumsum(pca.explained_variance_ratio_))"
   ]
  },
  {
   "cell_type": "code",
   "execution_count": 321,
   "id": "eb4490f5",
   "metadata": {},
   "outputs": [
    {
     "data": {
      "image/png": "[encoded data removed]",
      "text/plain": [
       "<Figure size 432x288 with 1 Axes>"
      ]
     },
     "metadata": {},
     "output_type": "display_data"
    }
   ],
   "source": [
    "components = range(1,n_comps + 1)\n",
    "plt.bar(components,eigenvalues)\n",
    "plt.xticks(components)\n",
    "plt.title('Varianza de los ' + str(n_comps) + ' componentes principales')\n",
    "plt.xlabel('Top ' +str(n_comps) + ' componentes principales')\n",
    "plt.ylabel('Varianza')\n",
    "plt.show()"
   ]
  },
  {
   "cell_type": "code",
   "execution_count": 322,
   "id": "18c58f8f",
   "metadata": {},
   "outputs": [
    {
     "name": "stdout",
     "output_type": "stream",
     "text": [
      "(19866, 48)\n"
     ]
    }
   ],
   "source": [
    "# Unimos las variables categoricas a las numericas\n",
    "X_train_pca = np.concatenate((X_train_num_pca,X_train_cat),axis=1)\n",
    "X_test_pca = np.concatenate((X_test_num_pca,X_test_cat),axis=1)\n",
    "print(X_train_pca.shape)"
   ]
  },
  {
   "cell_type": "code",
   "execution_count": 323,
   "id": "728f09df",
   "metadata": {},
   "outputs": [
    {
     "name": "stdout",
     "output_type": "stream",
     "text": [
      "Fitting 10 folds for each of 14 candidates, totalling 140 fits\n",
      "Mejores hiperaparametros:  {'C': 100, 'penalty': 'l2'}\n",
      "Accuracy : 0.8982180750913162\n"
     ]
    }
   ],
   "source": [
    "# Seteamos hiperparametros y aplicamos grid search y cross validation\n",
    "grid = {\"C\":[0.001,0.01,0.1,1,10,100,1000], \"penalty\":[\"l1\",\"l2\"]}# l1 lasso l2 ridge\n",
    "logreg_pca = logreg = LogisticRegression()\n",
    "logreg_cv_pca=GridSearchCV(logreg_pca,grid,cv=10,verbose=1)\n",
    "logreg_cv_pca.fit(X_train_pca,y_train)\n",
    "\n",
    "print(\"Mejores hiperaparametros: \",logreg_cv.best_params_)\n",
    "print(\"Accuracy :\",logreg_cv.best_score_)"
   ]
  },
  {
   "cell_type": "code",
   "execution_count": 324,
   "id": "2ec970f2",
   "metadata": {},
   "outputs": [
    {
     "data": {
      "text/plain": [
       "LogisticRegression(C=100, class_weight={0: 0.25, 1: 0.75})"
      ]
     },
     "execution_count": 324,
     "metadata": {},
     "output_type": "execute_result"
    }
   ],
   "source": [
    "logreg_pca = LogisticRegression(C=100,penalty='l2',class_weight={ 0:0.25, 1:0.75 })\n",
    "logreg_pca.fit(X_train, y_train)"
   ]
  },
  {
   "cell_type": "code",
   "execution_count": 325,
   "id": "521fe140",
   "metadata": {},
   "outputs": [
    {
     "name": "stdout",
     "output_type": "stream",
     "text": [
      "Accuracy del modelo: 0.8951\n"
     ]
    }
   ],
   "source": [
    "# Relizamos una prediccion con los datos de test\n",
    "y_pred_test_pca = logreg_cv_pca.predict(X_test_pca)\n",
    "\n",
    "y_pred_test_pca\n",
    "\n",
    "# Analizamos la performance del modelo\n",
    "\n",
    "\n",
    "print('Accuracy del modelo: {0:0.4f}'. format(accuracy_score(y_test, y_pred_test_pca)))"
   ]
  },
  {
   "cell_type": "code",
   "execution_count": 326,
   "id": "127f553c",
   "metadata": {},
   "outputs": [
    {
     "name": "stdout",
     "output_type": "stream",
     "text": [
      "Score de entrenamiento: 0.8985\n",
      "Score de test: 0.8951\n"
     ]
    }
   ],
   "source": [
    "# Realizamos una prediccion con los datos de entrenamiento para luego verificar si hay overfitting o underfitting\n",
    "print('Score de entrenamiento: {:.4f}'.format(logreg_cv_pca.score(X_train_pca, y_train)))\n",
    "\n",
    "print('Score de test: {:.4f}'.format(logreg_cv_pca.score(X_test_pca, y_test)))"
   ]
  },
  {
   "cell_type": "markdown",
   "id": "09c2cc79",
   "metadata": {},
   "source": [
    "El accuracy del modelo se incremeto de 0.8887 a 0.8951, lo cual indicaría que al aplicar PCA mejora minimamente la performance del modelo"
   ]
  },
  {
   "cell_type": "code",
   "execution_count": null,
   "id": "bb502f1d",
   "metadata": {},
   "outputs": [],
   "source": []
  }
 ],
 "metadata": {
  "kernelspec": {
   "display_name": "Python 3 (ipykernel)",
   "language": "python",
   "name": "python3"
  },
  "language_info": {
   "codemirror_mode": {
    "name": "ipython",
    "version": 3
   },
   "file_extension": ".py",
   "mimetype": "text/x-python",
   "name": "python",
   "nbconvert_exporter": "python",
   "pygments_lexer": "ipython3",
   "version": "3.9.12"
  }
 },
 "nbformat": 4,
 "nbformat_minor": 5
}
